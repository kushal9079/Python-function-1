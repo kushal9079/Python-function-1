{
 "cells": [
  {
   "cell_type": "markdown",
   "id": "7844cc61-0ede-408b-9bba-ff9709d97268",
   "metadata": {},
   "source": [
    "# Question :- 1"
   ]
  },
  {
   "cell_type": "code",
   "execution_count": 1,
   "id": "e81b2251-ce27-4a9b-a9fc-1be0094ab801",
   "metadata": {},
   "outputs": [
    {
     "name": "stdout",
     "output_type": "stream",
     "text": [
      "[1, 3, 5, 7, 9, 11, 13, 15, 17, 19, 21, 23, 25]\n"
     ]
    }
   ],
   "source": [
    "# In Python, the \"def\" keyword is used to create a function. \n",
    "# Here's an example of a Python function that returns a list of odd numbers in the range of 1 to 25:\n",
    "\n",
    "def get_odd_numbers():\n",
    "    odd_numbers = [num for num in range(1, 26) if num % 2 != 0]\n",
    "    return odd_numbers\n",
    "\n",
    "# Call the function and print the result\n",
    "result = get_odd_numbers()\n",
    "print(result)\n"
   ]
  },
  {
   "cell_type": "markdown",
   "id": "0d7130c5-ae50-47b2-8b05-86f6cd228186",
   "metadata": {},
   "source": [
    "# Question :- 2"
   ]
  },
  {
   "cell_type": "code",
   "execution_count": 3,
   "id": "0f7a0840-fad2-4a1d-b8a9-1bafec8a9e6a",
   "metadata": {},
   "outputs": [
    {
     "name": "stdout",
     "output_type": "stream",
     "text": [
      "1\n",
      "2\n",
      "3\n",
      "four\n",
      "5.5\n"
     ]
    }
   ],
   "source": [
    "# *args and **kwargs are used in function definitions to allow the function to accept a variable number of arguments.\n",
    "\n",
    "'''*args allows a function to accept any number of positional arguments. \n",
    "It collects these arguments into a tuple within the function.'''\n",
    "\n",
    "\n",
    "\n",
    "# Example of args :- \n",
    "def print_args(*args):\n",
    "    for arg in args:\n",
    "        print(arg)\n",
    "\n",
    "# Example usage\n",
    "print_args(1, 2, 3, \"four\", 5.5)\n",
    "\n",
    "\n"
   ]
  },
  {
   "cell_type": "code",
   "execution_count": 2,
   "id": "b5f09964-d2d0-462c-a005-d5cebc725c01",
   "metadata": {},
   "outputs": [
    {
     "name": "stdout",
     "output_type": "stream",
     "text": [
      "name: John\n",
      "age: 25\n",
      "city: New York\n"
     ]
    }
   ],
   "source": [
    "'''**kwargs allows a function to accept any number of keyword arguments. \n",
    "It collects these arguments into a dictionary within the function.'''\n",
    "\n",
    "\n",
    "# Example of kwargs :- \n",
    "def print_kwargs(**kwargs):\n",
    "    for key, value in kwargs.items():\n",
    "        print(f\"{key}: {value}\")\n",
    "\n",
    "# Example usage\n",
    "print_kwargs(name=\"John\", age=25, city=\"New York\")\n"
   ]
  },
  {
   "cell_type": "markdown",
   "id": "3ee875d3-1d31-4450-b6a9-fa0f829cb8ec",
   "metadata": {},
   "source": [
    "# Question :- 3"
   ]
  },
  {
   "cell_type": "code",
   "execution_count": 4,
   "id": "f4e42322-395c-437f-a668-1bcf408aecfa",
   "metadata": {},
   "outputs": [
    {
     "name": "stdout",
     "output_type": "stream",
     "text": [
      "2\n",
      "4\n",
      "6\n",
      "8\n",
      "10\n"
     ]
    }
   ],
   "source": [
    "'''In Python, an iterator is an object that represents a stream of data and can be iterated (looped) over.\n",
    "It implements two methods: __iter__() and __next__().'''\n",
    "\n",
    "'''The __iter__() method initializes the iterator object and returns it.\n",
    "It is called when an iterator object is created.'''\n",
    "\n",
    "'''The __next__() method is responsible for returning the next element in the sequence.\n",
    "When there are no more elements to return, it should raise the StopIteration exception.'''\n",
    "\n",
    "\n",
    "class MyIterator:\n",
    "    def __init__(self, data):\n",
    "        self.data = data\n",
    "        self.index = 0\n",
    "\n",
    "    def __iter__(self):\n",
    "        return self\n",
    "\n",
    "    def __next__(self):\n",
    "        if self.index < len(self.data):\n",
    "            result = self.data[self.index]\n",
    "            self.index += 1\n",
    "            return result\n",
    "        else:\n",
    "            raise StopIteration\n",
    "\n",
    "# Given list\n",
    "my_list = [2, 4, 6, 8, 10, 12, 14, 16, 18, 20]\n",
    "\n",
    "# Initialize the iterator object\n",
    "my_iterator = MyIterator(my_list)\n",
    "\n",
    "# Iterate and print the first five elements\n",
    "for _ in range(5):\n",
    "    print(next(my_iterator))\n"
   ]
  },
  {
   "cell_type": "markdown",
   "id": "2f15ca3a-293d-429b-99f4-449211fce3ce",
   "metadata": {},
   "source": [
    "# Question :- 4"
   ]
  },
  {
   "cell_type": "code",
   "execution_count": 5,
   "id": "70dd7ab5-7fa4-4558-9a6a-5bc9de6f183a",
   "metadata": {},
   "outputs": [
    {
     "name": "stdout",
     "output_type": "stream",
     "text": [
      "0\n",
      "1\n",
      "4\n",
      "9\n",
      "16\n"
     ]
    }
   ],
   "source": [
    "'''A Python generator function allows you to declare a function that behaves like an iterator, providing a faster and easier way to create iterators.\n",
    "They can be used on an abstract container of data to turn it into an iterable object like lists, dictionaries and strings.'''\n",
    "\n",
    "'''The yield keyword is used to produce a sequence of values, one at a time, while maintaining the state of the generator function. \n",
    "When the function encounters a yield statement, it returns the value specified and \"pauses\" execution. \n",
    "The next time the generator is called, it resumes execution right after the yield statement.'''\n",
    "\n",
    "\n",
    "\n",
    "def square_generator(n):\n",
    "    for i in range(n):\n",
    "        yield i ** 2\n",
    "\n",
    "# Using the generator function\n",
    "for square in square_generator(5):\n",
    "    print(square)\n"
   ]
  },
  {
   "cell_type": "code",
   "execution_count": null,
   "id": "13a09b92-fba2-4f5f-83d4-12c52124cc43",
   "metadata": {},
   "outputs": [],
   "source": []
  },
  {
   "cell_type": "code",
   "execution_count": null,
   "id": "d162023a-4e6d-4401-b9ff-82220db68722",
   "metadata": {},
   "outputs": [],
   "source": []
  },
  {
   "cell_type": "code",
   "execution_count": null,
   "id": "71431095-0073-48ba-83d9-9af6b79db975",
   "metadata": {},
   "outputs": [],
   "source": []
  },
  {
   "cell_type": "code",
   "execution_count": null,
   "id": "5c7ce384-54b9-4df4-a6fd-27e38660a7be",
   "metadata": {},
   "outputs": [],
   "source": []
  },
  {
   "cell_type": "code",
   "execution_count": null,
   "id": "69c22e95-7a15-4fa1-82b3-c8a9c7ff5edd",
   "metadata": {},
   "outputs": [],
   "source": []
  },
  {
   "cell_type": "code",
   "execution_count": null,
   "id": "d6848574-702a-4444-b5dd-57cee6dad02e",
   "metadata": {},
   "outputs": [],
   "source": []
  },
  {
   "cell_type": "code",
   "execution_count": null,
   "id": "b44614fe-acdd-47cb-befc-9fa8e92de9da",
   "metadata": {},
   "outputs": [],
   "source": []
  },
  {
   "cell_type": "code",
   "execution_count": null,
   "id": "62c86d73-bfbf-45f1-8506-36c06a6ff680",
   "metadata": {},
   "outputs": [],
   "source": []
  },
  {
   "cell_type": "code",
   "execution_count": null,
   "id": "60c151dc-5450-47b5-a9c9-7c9c623ca82e",
   "metadata": {},
   "outputs": [],
   "source": []
  },
  {
   "cell_type": "code",
   "execution_count": null,
   "id": "8f86d76c-f247-4e6d-98cb-cf99e370fbd9",
   "metadata": {},
   "outputs": [],
   "source": []
  },
  {
   "cell_type": "code",
   "execution_count": null,
   "id": "11fef448-431d-4148-a499-cf44424d2934",
   "metadata": {},
   "outputs": [],
   "source": []
  },
  {
   "cell_type": "code",
   "execution_count": null,
   "id": "b4a554f4-7a4f-4cce-a800-c15df26d33db",
   "metadata": {},
   "outputs": [],
   "source": []
  },
  {
   "cell_type": "code",
   "execution_count": null,
   "id": "434808d8-717c-4477-ba36-d62baef75385",
   "metadata": {},
   "outputs": [],
   "source": []
  },
  {
   "cell_type": "code",
   "execution_count": null,
   "id": "10af885f-1e02-4433-886a-02c3af12f0a8",
   "metadata": {},
   "outputs": [],
   "source": []
  },
  {
   "cell_type": "code",
   "execution_count": null,
   "id": "c470ced7-fd26-4dc6-8296-321bef4f577c",
   "metadata": {},
   "outputs": [],
   "source": []
  },
  {
   "cell_type": "code",
   "execution_count": null,
   "id": "1d3dd807-fb87-45cf-87a4-e40e7b370d22",
   "metadata": {},
   "outputs": [],
   "source": []
  },
  {
   "cell_type": "code",
   "execution_count": null,
   "id": "3c3803ec-1198-4e3a-9211-9c2d21d6691b",
   "metadata": {},
   "outputs": [],
   "source": []
  },
  {
   "cell_type": "code",
   "execution_count": null,
   "id": "2c1b43ed-e4c2-430e-91a7-8d41ca6eb60b",
   "metadata": {},
   "outputs": [],
   "source": []
  },
  {
   "cell_type": "code",
   "execution_count": null,
   "id": "e033871f-ce0f-4a9b-a228-2ecdf40c8240",
   "metadata": {},
   "outputs": [],
   "source": []
  },
  {
   "cell_type": "code",
   "execution_count": null,
   "id": "67c0b222-0814-477f-a0a4-70ff490f55a9",
   "metadata": {},
   "outputs": [],
   "source": []
  },
  {
   "cell_type": "code",
   "execution_count": null,
   "id": "1089ddce-ad43-444c-ace3-06f1eaee3f28",
   "metadata": {},
   "outputs": [],
   "source": []
  },
  {
   "cell_type": "code",
   "execution_count": null,
   "id": "96339fc2-d491-48ca-8031-fa8df6bfe7dc",
   "metadata": {},
   "outputs": [],
   "source": []
  },
  {
   "cell_type": "code",
   "execution_count": null,
   "id": "7e7495c6-74ce-4378-bbb9-c78d53c8aa51",
   "metadata": {},
   "outputs": [],
   "source": []
  },
  {
   "cell_type": "code",
   "execution_count": null,
   "id": "5fafc3a8-aa5b-4628-b68e-aaa1db7324d7",
   "metadata": {},
   "outputs": [],
   "source": []
  },
  {
   "cell_type": "code",
   "execution_count": null,
   "id": "011979d9-0b85-4f1d-8e01-c951e3bdbedd",
   "metadata": {},
   "outputs": [],
   "source": []
  },
  {
   "cell_type": "code",
   "execution_count": null,
   "id": "9093b0f2-f71e-4db6-b9be-7bf910669ec4",
   "metadata": {},
   "outputs": [],
   "source": []
  },
  {
   "cell_type": "code",
   "execution_count": null,
   "id": "a05efd49-098b-4600-9dd9-47093edb6352",
   "metadata": {},
   "outputs": [],
   "source": []
  },
  {
   "cell_type": "code",
   "execution_count": null,
   "id": "4116dec8-201d-422c-a816-9e178f55923d",
   "metadata": {},
   "outputs": [],
   "source": []
  },
  {
   "cell_type": "code",
   "execution_count": null,
   "id": "00d5d105-4553-4131-885d-df5f76b46375",
   "metadata": {},
   "outputs": [],
   "source": []
  },
  {
   "cell_type": "code",
   "execution_count": null,
   "id": "a9954603-e7a0-4286-b877-cc071ca6538f",
   "metadata": {},
   "outputs": [],
   "source": []
  },
  {
   "cell_type": "code",
   "execution_count": null,
   "id": "a585cbf4-07e8-447d-92a2-94b33971f10f",
   "metadata": {},
   "outputs": [],
   "source": []
  },
  {
   "cell_type": "code",
   "execution_count": null,
   "id": "3a78a7fa-9321-4424-b3a3-86549684d002",
   "metadata": {},
   "outputs": [],
   "source": []
  },
  {
   "cell_type": "code",
   "execution_count": null,
   "id": "41710e01-c17d-40fd-a992-79838c63716c",
   "metadata": {},
   "outputs": [],
   "source": []
  }
 ],
 "metadata": {
  "kernelspec": {
   "display_name": "Python 3 (ipykernel)",
   "language": "python",
   "name": "python3"
  },
  "language_info": {
   "codemirror_mode": {
    "name": "ipython",
    "version": 3
   },
   "file_extension": ".py",
   "mimetype": "text/x-python",
   "name": "python",
   "nbconvert_exporter": "python",
   "pygments_lexer": "ipython3",
   "version": "3.10.8"
  }
 },
 "nbformat": 4,
 "nbformat_minor": 5
}
